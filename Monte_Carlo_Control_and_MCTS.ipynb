{
 "cells": [
  {
   "cell_type": "code",
   "execution_count": 1,
   "id": "2eecc88c",
   "metadata": {
    "scrolled": false
   },
   "outputs": [
    {
     "name": "stderr",
     "output_type": "stream",
     "text": [
      "ERROR: Invalid requirement: \"'git+https://github.com/sarah-keren/multi-taxi'\"\n"
     ]
    }
   ],
   "source": [
    "!pip install -q 'git+https://github.com/sarah-keren/multi-taxi'"
   ]
  },
  {
   "attachments": {},
   "cell_type": "markdown",
   "id": "88a017c5",
   "metadata": {},
   "source": [
    "# Our Problem\n",
    "The problem that we will focus on today is to make a taxi move towards a single passenger and to pick it up, without dropping it at its destination."
   ]
  },
  {
   "attachments": {},
   "cell_type": "markdown",
   "id": "f954d24b",
   "metadata": {},
   "source": [
    "![Taxi_domain_show](https://raw.githubusercontent.com/GabrieleSerussi/mcts/main/Taxi_domain_show.png)"
   ]
  },
  {
   "attachments": {},
   "cell_type": "markdown",
   "id": "503b615e",
   "metadata": {},
   "source": [
    "The only guidance that we will provide to our agent is a **reward function** that prizes the agent for picking up the passenger and that penalizes the agent for taking too many steps to reach the goal.\n",
    "\n",
    "In particular, the reward function is defined as follows:\n",
    "- +100 points for a successful drop-off\n",
    "- -5 point for every bad pick-up\n",
    "- -2 points for hitting an obstacle (e.g. a wall)\n",
    "- -1 for every step taken"
   ]
  },
  {
   "cell_type": "code",
   "execution_count": 1,
   "id": "7716d5be",
   "metadata": {},
   "outputs": [],
   "source": [
    "from multi_taxi import Event\n",
    "\n",
    "customized_reward = {\n",
    "    Event.PICKUP: 100,\n",
    "    Event.BAD_PICKUP: -5,\n",
    "    Event.HIT_OBSTACLE: -2,\n",
    "    Event.STEP: -1\n",
    "}"
   ]
  },
  {
   "attachments": {},
   "cell_type": "markdown",
   "id": "bb119675",
   "metadata": {},
   "source": [
    "# Our Tools\n",
    "In our case we are **not** given access to a model, i.e. we don't know the transition function $ T: \\mathcal{S} \\times \\mathcal{A} \\rightarrow \\mathcal{S} $ and the reward function $ R: \\mathcal{S} \\times \\mathcal{A} \\rightarrow \\mathcal{S} $, where $\\mathcal{S}$ is the set of states and $\\mathcal{A}$ is the set of actions. \n",
    "\n",
    "We can only interact with the environment by taking actions and observing the resulting state and reward.\n",
    "This approach is thus based on Monte Carlo simulations and it is called **model-free**.\n",
    "\n",
    "## Monte Carlo Simulation\n",
    "To understand how Monte Carlo simulations work, let's see it in action.\n",
    "First, we will create a helper function which will allow us to create an environment by specifying the position of the taxi and the passenger."
   ]
  },
  {
   "cell_type": "code",
   "execution_count": 3,
   "id": "5d9818b6",
   "metadata": {},
   "outputs": [],
   "source": [
    "from multi_taxi import multi_taxi_v0\n",
    "from multi_taxi.world.maps import DEFAULT_MAP, BIG_MAP\n",
    "\n",
    "def new_environment_creator(taxi_pos, passenger_pos, \n",
    "                            num_taxis=1,num_passengers=1, \n",
    "                            pickup_only=True, can_see_other_taxi_info=False, \n",
    "                            domain_map=DEFAULT_MAP,reward_table=customized_reward):\n",
    "    \"\"\"\n",
    "    A helper function to setup a new environment with predefined taxi and passenger locations\n",
    "    :param taxi_pos: The location of the taxi\n",
    "    :param passenger_pos: The location of the passenger\n",
    "    :param num_taxis: The number of taxis in the environment (default: 1)\n",
    "    :param num_passengers: The number of passengers in the environment (default: 1)\n",
    "    :param pickup_only: Whether the passenger can be dropped off or not (default: True)\n",
    "    :param can_see_other_taxi_info: Whether the taxi can see the other taxis' locations (default: False)\n",
    "    :param domain_map: The map of the environment (default: DEFAULT_MAP)\n",
    "    :param reward_table: The reward table of the environment (default: customized_reward)\n",
    "    :return: The new environment\n",
    "    \"\"\"\n",
    "    new_env = multi_taxi_v0.env(num_taxis=num_taxis, num_passengers=num_passengers, pickup_only=pickup_only, domain_map=domain_map,\n",
    "                                can_see_other_taxi_info=can_see_other_taxi_info,reward_table=reward_table, \n",
    "                                render_mode='human', allow_arrived_passengers_on_reset=False)\n",
    "    new_env.reset()\n",
    "\n",
    "    state = new_env.state()\n",
    "    state.taxis[0].location = taxi_pos\n",
    "    state.passengers[0].location = passenger_pos\n",
    "    new_env.unwrapped.set_state(state)\n",
    "\n",
    "    return new_env\n",
    "\n",
    "\n",
    "# Create the environment from which we will run the Monte Carlo Simulations\n",
    "taxi_position = (0,0)\n",
    "passenger_position = (3,3)\n",
    "env = new_environment_creator(taxi_position, passenger_position)"
   ]
  },
  {
   "attachments": {},
   "cell_type": "markdown",
   "id": "e787dcf4",
   "metadata": {},
   "source": [
    "Next, we will create a function that will allow us to simulate a single episode, i.e. a single run of the environment, by taking random actions until the episode ends."
   ]
  },
  {
   "cell_type": "code",
   "execution_count": 4,
   "id": "3fdfb4c8",
   "metadata": {},
   "outputs": [],
   "source": [
    "import numpy as np\n",
    "from IPython.display import clear_output\n",
    "from copy import deepcopy\n",
    "\n",
    "def run_monte_carlo_simulation(environment, gamma, max_number_of_steps: int =100_000, verbose: bool = False, render: bool = False):\n",
    "    \"\"\"\n",
    "    Runs a Monte Carlo simulation on a given environment\n",
    "    :param environment: The environment on which to run the simulation\n",
    "    :param gamma: The discount factor\n",
    "    :param max_number_of_steps: The maximum number of steps to run the simulation for (default: 100_000)\n",
    "    :param verbose: Whether to print the results of the simulation (default: False)\n",
    "    :param render: Whether to render the environment (default: False)\n",
    "    :return: The accumulated reward\n",
    "    \"\"\"\n",
    "    # Copy the environment so we don't change the original\n",
    "    env = deepcopy(environment)\n",
    "\n",
    "    number_of_actions = len(env.unwrapped.get_action_map('taxi_0').values())\n",
    "    accumulated_reward = 0\n",
    "    # Run the simulation for at most max_number_of_steps steps\n",
    "    for step in range(max_number_of_steps):\n",
    "        # Choose a random action\n",
    "        action = np.random.choice(number_of_actions)\n",
    "        # Take the action\n",
    "        env.step(action)\n",
    "        # Get the last state\n",
    "        obs, reward, done, trunc, info = env.last()\n",
    "        # Accumulate the reward\n",
    "        accumulated_reward += reward * (gamma ** step)\n",
    "        if render:\n",
    "            clear_output(wait=True)\n",
    "            if verbose:\n",
    "                print(f\"Step {step}: Accumulated reward: {accumulated_reward}\")\n",
    "            env.render()\n",
    "        # If the simulation is done, stop\n",
    "        if done:\n",
    "            break\n",
    "    del env\n",
    "\n",
    "    return accumulated_reward"
   ]
  },
  {
   "attachments": {},
   "cell_type": "markdown",
   "id": "e6cb3f56",
   "metadata": {},
   "source": [
    "Now we are ready to simulate a single episode.\n",
    "\n",
    "Try to run the next cell multiple times and see what happens."
   ]
  },
  {
   "cell_type": "code",
   "execution_count": 5,
   "id": "d184b8a1",
   "metadata": {},
   "outputs": [
    {
     "name": "stdout",
     "output_type": "stream",
     "text": [
      "Step 287: Accumulated reward: -219.96506792699094\n",
      "+-----------------------+\n",
      "| : |F: | : | : | : |F: |\n",
      "| : | : : : | : | : | : |\n",
      "| : : : : : : : : : : : |\n",
      "| : : :\u001b[43m \u001b[0m: : | : : : : : |\n",
      "| : : : : : | : : : : : |\n",
      "| : : : : : : : : : : : |\n",
      "| | :G| | | :G| | | : | |\n",
      "+-----------------------+\n",
      "Taxi0-YELLOW: Fuel: inf, Location: (3, 3), Engine: ON, Collided: False, Step: 288, ALIVE\n",
      "Passenger0-YELLOW: Location: Taxi0 (3, 3), Destination: (-1, -1)\n",
      "Env done: True\n",
      "\n"
     ]
    },
    {
     "data": {
      "text/plain": [
       "-219.96506792699094"
      ]
     },
     "execution_count": 5,
     "metadata": {},
     "output_type": "execute_result"
    }
   ],
   "source": [
    "GAMMA = 0.99\n",
    "run_monte_carlo_simulation(env, gamma=GAMMA, render=True, verbose=True)"
   ]
  },
  {
   "attachments": {},
   "cell_type": "markdown",
   "id": "e7a3d1af",
   "metadata": {},
   "source": [
    "It is possible to notice that some simulations are really long and some are short. This shows the **variance** to which Monte Carlo simulations are exposed. This variance will be propagated to our estimates and it is the reason why we will need to run many Monte Carlo simulations to obtain a good estimate.\n",
    "\n",
    "Another important thing that we need to pay attention to is the impact of the **discount factor** $\\gamma$. Try to see what happens as you lower the value of $\\gamma$.\n",
    "\n",
    "Run the next cell multiple times and see what happens."
   ]
  },
  {
   "cell_type": "code",
   "execution_count": 6,
   "id": "9fe49c38",
   "metadata": {},
   "outputs": [
    {
     "name": "stdout",
     "output_type": "stream",
     "text": [
      "Step 2345: Accumulated reward: -8.51520415849203\n",
      "+-----------------------+\n",
      "| : |F: | : | : | : |F: |\n",
      "| : | : : : | : | : | : |\n",
      "| : : : : : : : : : : : |\n",
      "| : : :\u001b[43m \u001b[0m: : | : : : : : |\n",
      "| : : : : : | : : : : : |\n",
      "| : : : : : : : : : : : |\n",
      "| | :G| | | :G| | | : | |\n",
      "+-----------------------+\n",
      "Taxi0-YELLOW: Fuel: inf, Location: (3, 3), Engine: ON, Collided: False, Step: 2346, ALIVE\n",
      "Passenger0-YELLOW: Location: Taxi0 (3, 3), Destination: (-1, -1)\n",
      "Env done: True\n",
      "\n"
     ]
    },
    {
     "data": {
      "text/plain": [
       "-8.51520415849203"
      ]
     },
     "execution_count": 6,
     "metadata": {},
     "output_type": "execute_result"
    }
   ],
   "source": [
    "GAMMA = 0.70\n",
    "run_monte_carlo_simulation(env, gamma=GAMMA, render=True, verbose=True)"
   ]
  },
  {
   "attachments": {},
   "cell_type": "markdown",
   "id": "6402daae",
   "metadata": {},
   "source": [
    "As you can see, with a **lower value** of $\\gamma$ the actions taken after a **high number of steps** have a very **limited impact** on the accumulated reward. This is because the reward is discounted by a factor of $\\gamma$ at each step. For this reason, the agent will care less about the actions taken after a high number of steps, limiting the horizon of its planning. For example, the agent will not care too much if it reached the passenger in 1_000 steps or in 1_100 steps. This will lead to a more **short-sighted** behaviour. \n",
    "\n",
    "Now we will see how to use Monte Carlo simulations to solve our problem."
   ]
  },
  {
   "attachments": {},
   "cell_type": "markdown",
   "id": "ba05337f",
   "metadata": {},
   "source": [
    "# Monte Carlo Control\n",
    "\n",
    "The most immediate way to exploit Monte Carlo simulations to solve our problem is to use them to estimate the **q-value function** $Q(s,a)$, i.e. the expected reward that we will get by executing action $a$ in the state $s$.\n",
    "\n",
    "## Algorithm Structure\n",
    "Monte Carlo Control follows the paradigm of Generalised Policy Iteration (GPI), which is composed of two main steps:\n",
    "1. **Policy Evaluation** (Monte Carlo Estimation for Action Values):\n",
    "   - Use Monte Carlo simulations to estimate $Q(s,a)$\n",
    "2. **Policy Improvement** (Greedy Policy Improvement):\n",
    "   - Improve the policy $\\pi$ by acting greedily with respect to $Q(s,a)$\n",
    "3. Repeat until convergence"
   ]
  },
  {
   "attachments": {},
   "cell_type": "markdown",
   "id": "4b2b713c",
   "metadata": {
    "id": "4b2b713c"
   },
   "source": [
    "![monte_carlo_control_schema](https://raw.githubusercontent.com/GabrieleSerussi/mcts/main/Monte_Carlo_Control_small.png)"
   ]
  },
  {
   "attachments": {},
   "cell_type": "markdown",
   "id": "4b0d407c",
   "metadata": {},
   "source": [
    "On top of this basic algorithm, we will add a **decaying $\\epsilon$-greedy policy** to allow the agent to explore the environment.\n",
    "\n",
    "Here is the complete algorithm:\n",
    "\n",
    "P.S. Ignore the line \"Unless the pair $S_t, A_t$ appears in $S_0, A_0, S_1, A_1, ..., S_{t-1}, A_{t-1}$\". This is just a technicality that can be ignored (this is a detail of the first-visit version of Monte Carlo Control, the every-visit version, which is the one we are going to use, does not check if this condition is verified)."
   ]
  },
  {
   "attachments": {},
   "cell_type": "markdown",
   "id": "20a23c14",
   "metadata": {},
   "source": [
    "# Monte Carlo Control algorithm"
   ]
  },
  {
   "attachments": {},
   "cell_type": "markdown",
   "id": "beef176e",
   "metadata": {},
   "source": [
    "![monte_carlo_control_algorithm](https://raw.githubusercontent.com/GabrieleSerussi/mcts/main/Monte_carlo_control_algorithm_book.png)"
   ]
  },
  {
   "attachments": {},
   "cell_type": "markdown",
   "id": "82d8ee6f",
   "metadata": {},
   "source": [
    "Now that we have seen the pseudocode, let's see how to implement it.\n",
    "\n",
    "We have chosen to make the agent run a certain number of episodes with which the policy is updated and then the agent will take a step in the environment."
   ]
  },
  {
   "cell_type": "code",
   "execution_count": 8,
   "id": "1929d562",
   "metadata": {},
   "outputs": [],
   "source": [
    "from collections import defaultdict\n",
    "import time\n",
    "\n",
    "class MonteCarloControl:\n",
    "    def __init__(self, state, gamma:float = 0.9, train_episode_number:int=1_000,\n",
    "                 max_steps_per_episode:int = 1_000) -> None:\n",
    "        '''\n",
    "        :args state: environment with the initial state\n",
    "        :args gamma: discount factor\n",
    "        :args train_episode_number: number of episodes used to train the agent (it is only used in the function train)\n",
    "        :args max_steps_per_episode: maximum number of steps \n",
    "        '''\n",
    "        self.state = state\n",
    "        self.Q = defaultdict(lambda: defaultdict(lambda: 0))\n",
    "        self.N = defaultdict(lambda: defaultdict(lambda: 0))\n",
    "        self.visited = set()\n",
    "        self.episode_number = 0\n",
    "        self.gamma = gamma\n",
    "        self.train_episode_number = train_episode_number\n",
    "        self.max_steps_per_episode = max_steps_per_episode\n",
    "\n",
    "    def _policy(self, state, epsilon = None):\n",
    "        \"\"\"\n",
    "        Compute the action to take in a given state using the epsilon-greedy policy\n",
    "        :param state: The state in which to take the action\n",
    "        :param epsilon: The epsilon value to use for the epsilon-greedy policy (default: 1/sqrt(episode_number + 1))\n",
    "        :return: The action to take\n",
    "        \"\"\"\n",
    "        # epsilon-greedy policy\n",
    "        if epsilon is None:\n",
    "            epsilon = 1/np.sqrt(self.episode_number + 1)\n",
    "        else:\n",
    "            epsilon = epsilon\n",
    "        number_of_actions = len(self.state.unwrapped.get_action_map('taxi_0').values())\n",
    "        if np.random.random() < epsilon:\n",
    "            action = np.random.choice(number_of_actions)\n",
    "        else:\n",
    "            # convert state to use as key in Q\n",
    "            state = state.unwrapped.state().taxis[0].location\n",
    "            \n",
    "            if len(self.Q[state]) == 0:\n",
    "                action = np.random.choice(number_of_actions)\n",
    "            else:\n",
    "                action = max(self.Q[state], key=self.Q[state].get)\n",
    "        return action\n",
    "    \n",
    "    def _update(self, episode):\n",
    "        \"\"\"\n",
    "        Update the Q values using the episode\n",
    "        :param episode: The episode to use to update the Q values\n",
    "        \"\"\"\n",
    "        G = 0\n",
    "        for i, (state, action, reward) in enumerate(reversed(episode)):\n",
    "            G = (self.gamma**i) * G + reward\n",
    "            # convert state to use as key in Q\n",
    "            state = state.unwrapped.state().taxis[0].location\n",
    "            self.visited.add(state)\n",
    "            self.N[state][action] += 1\n",
    "            self.Q[state][action] += (G - self.Q[state][action]) / self.N[state][action]\n",
    "    \n",
    "    \n",
    "    def _train(self, starting_state):\n",
    "        \"\"\"\n",
    "        Generate an episode from the starting state and update the Q values\n",
    "        :args starting_state: environment with the initial state\n",
    "        \"\"\"\n",
    "        self.episode_number += 1\n",
    "        current_episode_state = deepcopy(starting_state)\n",
    "        episode = []\n",
    "        for _ in range(self.max_steps_per_episode):\n",
    "\n",
    "            action = self._policy(current_episode_state)\n",
    "            old_state = deepcopy(current_episode_state)\n",
    "            current_episode_state.step(action)\n",
    "            obs, reward, done, trunc, info = current_episode_state.last()\n",
    "            episode.append((old_state, action, reward))\n",
    "            if done:\n",
    "                break\n",
    "        self._update(episode)\n",
    "    \n",
    "    def _step(self, current_state, render:bool, step_number:int):\n",
    "        \"\"\"\n",
    "        Make a step in the environment using the current policy\n",
    "        :args current_state: environment with the current state\n",
    "        :args render: if True render the environment after the step (default False)\n",
    "        :args verbose: if True print the action executed and the Q values (default False)\n",
    "        \"\"\"\n",
    "        action = self._policy(current_state, epsilon=0)\n",
    "        old_state = current_state.unwrapped.state().taxis[0].location\n",
    "        current_state.step(action)\n",
    "        obs, reward, done, trunc, info = current_state.last()\n",
    "        if render:\n",
    "            time.sleep(1)\n",
    "            clear_output(wait=True)\n",
    "            print(f\"Step number: {step_number}\")\n",
    "            print(f\"Action executed: {current_state.unwrapped.get_action_meanings('taxi_0')[action]}\")\n",
    "            print(\"Names: | Average reward: | Number of visits:\")\n",
    "            for act, action_name in current_state.unwrapped.get_action_meanings('taxi_0').items():\n",
    "                print(f\"{action_name}| {round(self.Q[old_state][act], 3)} | {self.N[old_state][act]}\")\n",
    "            current_state.unwrapped.render()\n",
    "        return current_state, done\n",
    "\n",
    "    def run_and_update(self, number_of_simulated_episodes:int=100, max_number_of_steps:int=150, render:bool=False)-> int: \n",
    "        \"\"\"\n",
    "        Continuosly train the policy for number_of_simulated_episodes and then make a step until the simulation is done\n",
    "        or until max_number_of_steps is reached\n",
    "        :args number_of_simulated_episodes: number of episodes used to train the agent during each step (default 100)\n",
    "        :args max_number_of_steps: maximum number of steps allowed (default 150)\n",
    "        :return: the number of steps executed to reach the end of the simulation\n",
    "        \"\"\"\n",
    "        current_state = deepcopy(self.state)\n",
    "        steps = 0\n",
    "        for i in range(1,max_number_of_steps+1):\n",
    "            steps = i\n",
    "            # TRAINING STEP\n",
    "            self.episode_number = 0\n",
    "            for _ in range(number_of_simulated_episodes):\n",
    "                self._train(current_state)\n",
    "            \n",
    "            # ACTUAL STEP\n",
    "            current_state, done = self._step(current_state, render=render, step_number=i)\n",
    "            if done:\n",
    "                break\n",
    "        return steps\n"
   ]
  },
  {
   "attachments": {},
   "cell_type": "markdown",
   "id": "c7ad491d",
   "metadata": {},
   "source": [
    "Let's see the agent in action.\n",
    "Try to play with GAMMA and run multiple times the next cell to see how the agent behaves."
   ]
  },
  {
   "cell_type": "code",
   "execution_count": 11,
   "id": "8aa1c51c",
   "metadata": {},
   "outputs": [
    {
     "name": "stdout",
     "output_type": "stream",
     "text": [
      "Step number: 7\n",
      "Action executed: pickup\n",
      "Names: | Average reward: | Number of visits:\n",
      "south| 18.288 | 12\n",
      "north| 8.645 | 12\n",
      "east| 25.531 | 8\n",
      "west| 13.501 | 13\n",
      "pickup| 99.0 | 70\n",
      "+-----------------------+\n",
      "| : |F: | : | : | : |F: |\n",
      "| : | : : : | : | : | : |\n",
      "| : : : : : : : : : : : |\n",
      "| : : :\u001b[43m \u001b[0m: : | : : : : : |\n",
      "| : : : : : | : : : : : |\n",
      "| : : : : : : : : : : : |\n",
      "| | :G| | | :G| | | : | |\n",
      "+-----------------------+\n",
      "Taxi0-YELLOW: Fuel: inf, Location: (3, 3), Engine: ON, Collided: False, Step: 7, ALIVE\n",
      "Passenger0-YELLOW: Location: Taxi0 (3, 3), Destination: (-1, -1)\n",
      "Env done: True\n",
      "\n"
     ]
    },
    {
     "data": {
      "text/plain": [
       "7"
      ]
     },
     "execution_count": 11,
     "metadata": {},
     "output_type": "execute_result"
    }
   ],
   "source": [
    "env = new_environment_creator(taxi_pos=(0,0), passenger_pos=(3,3))\n",
    "GAMMA = 0.78\n",
    "monte_carlo_control = MonteCarloControl(env, gamma=GAMMA, max_steps_per_episode=1_000)\n",
    "monte_carlo_control.run_and_update(number_of_simulated_episodes=10, render=True)"
   ]
  },
  {
   "attachments": {},
   "cell_type": "markdown",
   "id": "d7a76d6e",
   "metadata": {},
   "source": [
    "### Considerations\n",
    "As you can see Monte Carlo Control behaves really well! Indeed it often **learns** **the optimal policy** or a policy that is really close to the optimal one (the optimal policy takes 7 steps).\n",
    "\n",
    "If so, are we done? Can we always use Monte Carlo Control to solve any problem?\n",
    "\n",
    "Unfortunately, the answer is no. Monte Carlo Control is not always applicable. In particular, it needs to store all the visited states and actions in memory. This is not always possible. For example, if we are playing a game like chess or Go where the state space and the action space are too big to fit in memory, we cannot store the Q-table that contains of all the states and actions.\n",
    "\n",
    "For this reason, we will need to use a different algorithm, which is more scalable and that collects trajectories in a wiser way: **Monte Carlo Tree Search**."
   ]
  },
  {
   "attachments": {},
   "cell_type": "markdown",
   "id": "10cac94c",
   "metadata": {},
   "source": [
    "# Monte Carlo Tree Search (MCTS)\n",
    "\n",
    "Monte Carlo Tree Search follows a different approach compared to Monte Carlo Control. Instead of storing all the visited states and actions, it will store only the **most promising** ones. This will allow us to scale to bigger problems.\n",
    "\n",
    "In order to do so, Monte Carlo Tree Search will build a **search tree** that will be used to store the most promising states and actions.\n",
    "\n",
    "A state and action are considered promising if they present good statistical values. Indeed, in order to manage the exploration-exploitation trade-off, Monte Carlo Tree Search will use the **Upper Confidence Bound** (UCB), which in our use case is called UCT, to select the most promising state and action.\n",
    "\n",
    "Let's see how it works in more detail.\n"
   ]
  },
  {
   "attachments": {},
   "cell_type": "markdown",
   "id": "4d2b174d",
   "metadata": {
    "id": "4d2b174d"
   },
   "source": [
    "# The 4 steps of MCTS\n",
    "\n",
    "MCTS consists of four main steps: selection, expansion, simulation, and backpropagation.\n",
    "\n",
    "1. **Selection.** Select a leaf node using **tree policy**.\n",
    "2. **Expansion.** **Add children** to the selected leaf using unexplored actions\n",
    "3. **Rollout.** From the selected child **simulate** an **episode** using the **rollout policy**\n",
    "4. **Backpropagation**. **Update** the average **value** of the nodes starting **from** the selected **child** up **to** the **root** using the results of the rollout episode\n",
    "    - ATTENTION: No values are saved for the states and actions visited by the rollout policy beyond the tree! \n",
    "\n",
    "![mcts_4_steps](https://raw.githubusercontent.com/GabrieleSerussi/mcts/main/mcts_4_steps.png)\n",
    "\n",
    "MCTS **repeats** this cycle until **no time** is left (starting at the root node each time). **Finally**, MCTS **chooses** the **action** to make from the root node."
   ]
  },
  {
   "attachments": {},
   "cell_type": "markdown",
   "id": "05be701a",
   "metadata": {
    "id": "05be701a"
   },
   "source": [
    "# Rollout policy and Tree policy\n",
    "\n",
    "* **Rollout policy**: a simple and cheap policy that takes care of generating actions in the **simulated trajectories**\n",
    "\n",
    "* **Tree policy**: a policy that decises how to grow the tree and that **selects** a **child node** that is most **promising** according to a selection policy, which balances exploration and exploitation of the search space. \n",
    "    * examples : $\\epsilon$-greedy, UCT\n",
    "    \n",
    "    * $ \\text{UCT} = \\underbrace{Q}_ {\\textbf{Exploitation}} + \\underbrace{C \\sqrt{\\frac{\\log(N)}{n}}}_{\\textbf{Exploration}} $\n",
    "   \n",
    "   Where: \n",
    "   - $Q$ is the average Q-value of the considered state-action pair\n",
    "   - $C$ is a constant that balances exploration and exploitation\n",
    "   - $N$ is the total number of times that the current node has been visited\n",
    "   - $n$ is the number of times that the considered child node has been visited\n"
   ]
  },
  {
   "attachments": {},
   "cell_type": "markdown",
   "id": "b13865a9",
   "metadata": {},
   "source": [
    "Now that we got the gist of how MCTS works we'll see its implementation."
   ]
  },
  {
   "cell_type": "code",
   "execution_count": 14,
   "id": "4fc385bf",
   "metadata": {
    "id": "4fc385bf"
   },
   "outputs": [],
   "source": [
    "from copy import deepcopy\n",
    "import time\n",
    "\n",
    "class MonteCarloTreeSearchNode():\n",
    "    def __init__(self, state, n_simulations=100, parent=None, parent_action=None, gamma = 0.9):\n",
    "        # environment holding the current state\n",
    "        self.state = state\n",
    "        # None for the root node, otherwise it is equal to the node it is derived from.\n",
    "        self.parent = parent\n",
    "        # None for the root node, otherwise it is equal to the action which its parent carried out.\n",
    "        self.parent_action = parent_action \n",
    "        # Contains all possible actions from the current node.\n",
    "        self.children = []\n",
    "        # Number of times current node is visited.\n",
    "        self.number_of_visits = 0 \n",
    "        self.average_reward = 0\n",
    "        # Set of all of the possible actions\n",
    "        self._untried_actions = self._get_legal_actions()\n",
    "        self.terminal_state = False\n",
    "        self.gamma = gamma\n",
    "        # Number of loops with the four stages\n",
    "        self.n_simulations = n_simulations\n",
    "        # Function used to evaluate the nodes (it will be used in rendering)\n",
    "        self._evaluate_function = self._uct\n",
    "    \n",
    "    def run_and_update(self, max_number_of_steps:int = 10_000, render:bool=False)-> int:\n",
    "        \"\"\"\n",
    "        Run Monte Carlo Tree Search for at most max_number_of_steps steps.\n",
    "        :args max_number_of_steps: maximum number of steps allowed (default 10_000)\n",
    "        :args render: if True render the environment after the step (default False)\n",
    "        \"\"\"\n",
    "        if render:\n",
    "            self.state.unwrapped.render()\n",
    "        steps = 0\n",
    "        selected_node = self._best_action()\n",
    "        for i in range(1,max_number_of_steps+1):\n",
    "            steps = i\n",
    "            if not render:\n",
    "                selected_node = selected_node._best_action()\n",
    "            else:\n",
    "                selected_node, before_move_node = selected_node._best_action(render=render)\n",
    "                time.sleep(1)\n",
    "                clear_output(wait=True)\n",
    "                print(f\"Step number: {i+1}\")\n",
    "                print(f\"Action executed: {self.state.unwrapped.get_action_meanings('taxi_0')[selected_node.parent_action]}\")\n",
    "                print(\"Names: | Values: | Average reward: | Number of visits:\")\n",
    "                for child in before_move_node.children:\n",
    "                    action_name = self.state.unwrapped.get_action_meanings('taxi_0')[child.parent_action]\n",
    "                    print(f\"{action_name}| {round(before_move_node._evaluate_function(child, c_param=0.8), 3)} | {round(child.average_reward, 3)} | {child.number_of_visits}\")\n",
    "                del before_move_node\n",
    "                selected_node.state.unwrapped.render()\n",
    "            \n",
    "            if selected_node.terminal_state:\n",
    "                break\n",
    "        \n",
    "        return steps+1\n",
    "    \n",
    "    def _best_action(self, render:bool=False):\n",
    "        \"\"\"\n",
    "        Execute the four stages to find the best action from the current state.\n",
    "        \"\"\"\n",
    "        for _ in range(self.n_simulations):\n",
    "            node = self._tree_policy()\n",
    "            reward = node._rollout()\n",
    "            node._backpropagate(reward)\n",
    "        if not render:\n",
    "            return self._best_child(c_param=0.)\n",
    "            #return self.children[np.argmax([child.number_of_visits for child in self.children])]\n",
    "        else:\n",
    "            return self._best_child(c_param=0.), self\n",
    "            #return self.children[np.argmax([child.number_of_visits for child in self.children])], self\n",
    "\n",
    "    def _tree_policy(self):\n",
    "        \"\"\"\n",
    "        Select node from which we run the rollout.\n",
    "        \"\"\"\n",
    "        current_node = self\n",
    "        while not current_node._is_terminal_node():\n",
    "            # if there is an action that has not been tried yet, return the child node corresponding to this action\n",
    "            if not current_node._is_fully_expanded():\n",
    "                return current_node._expand()\n",
    "            # else select the best child node\n",
    "            else:\n",
    "                current_node = current_node._best_child()\n",
    "        return current_node\n",
    "\n",
    "    def _is_terminal_node(self):\n",
    "        \"\"\"\n",
    "        This is used to check if the current node is terminal or not. \n",
    "        Terminal node is reached when the game is over.\n",
    "        \"\"\"\n",
    "        return self.terminal_state\n",
    "    \n",
    "    def _is_fully_expanded(self):\n",
    "        \"\"\"\n",
    "        All the actions are poped out of _untried_actions one by one. \n",
    "        When it becomes empty, that is when the size is zero, it is fully expanded.\n",
    "        \"\"\"\n",
    "        return len(self._untried_actions) == 0\n",
    "\n",
    "    def _expand(self):\n",
    "        \"\"\"\n",
    "        Select an action that has not been tried yet and return the corresponding child node.\n",
    "        \"\"\"\n",
    "        # select an action that has not been tried yet\n",
    "        action = self._untried_actions.pop()\n",
    "        \n",
    "        new_state = deepcopy(self.state)\n",
    "        new_state.step(action)\n",
    "        obs, reward, done, trunc, info = new_state.last()\n",
    "        child_node = MonteCarloTreeSearchNode(state = new_state, n_simulations=self.n_simulations,\n",
    "                                            parent=self, parent_action=action, gamma=self.gamma)\n",
    "        child_node.terminal_state = done\n",
    "        child_node.average_reward = reward\n",
    "        child_node.number_of_visits = 1\n",
    "        self.children.append(child_node)\n",
    "\n",
    "        return child_node\n",
    "    \n",
    "    def _best_child(self, c_param=0.8):\n",
    "        \"\"\"\n",
    "        Once fully expanded, this function selects the best child out of \n",
    "        the children array. The first term in the formula corresponds to \n",
    "        exploitation and the second term corresponds to exploration.\n",
    "        \"\"\"\n",
    "        choices_weights = [self._uct(child, c_param) for child in self.children] \n",
    "        return self.children[np.argmax(choices_weights)]\n",
    "    \n",
    "    def _uct(self, child, c_param):\n",
    "        if self.number_of_visits == 0 or child.number_of_visits == 0:\n",
    "            return float(\"inf\")\n",
    "        return child.average_reward + \\\n",
    "                c_param*np.sqrt(np.log(self.number_of_visits)/child.number_of_visits)\n",
    "    \n",
    "    def _rollout(self):\n",
    "        \"\"\"\n",
    "        From the current state, entire game is simulated till there is an \n",
    "        outcome for the game. This outcome of the game is returned.\n",
    "        \"\"\"\n",
    "        current_rollout_state = deepcopy(self.state)\n",
    "\n",
    "        _reward = 0\n",
    "        step = 0\n",
    "        done = current_rollout_state.last()[2]\n",
    "        while not done:\n",
    "            possible_moves = self._get_legal_actions()\n",
    "            action = self._rollout_policy(possible_moves)\n",
    "            current_rollout_state.step(action)\n",
    "            obs, reward, done, trunc, info = current_rollout_state.last()\n",
    "            _reward += reward *(self.gamma ** step)\n",
    "            step += 1\n",
    "        return _reward\n",
    "    \n",
    "    def _get_legal_actions(self): \n",
    "        ''' \n",
    "        Returns a list of all of the possible actions from current state.\n",
    "        '''\n",
    "        return list(self.state.unwrapped.get_action_map('taxi_0').values())\n",
    "    \n",
    "    def _rollout_policy(self, possible_moves):\n",
    "        \"\"\"\n",
    "        Randomly selects a move out of possible moves.\n",
    "        \"\"\"\n",
    "        return possible_moves[np.random.randint(len(possible_moves))]\n",
    "\n",
    "    def _backpropagate(self, reward):\n",
    "        \"\"\"\n",
    "        In this step all the statistics for the nodes are updated. \n",
    "        Untill the parent node is reached, the number of visits for \n",
    "        each node is incremented by 1.\n",
    "        \"\"\"\n",
    "        self.number_of_visits += 1.\n",
    "        self.average_reward = self.average_reward + (1/self.number_of_visits)*(reward-self.average_reward)\n",
    "        if self.parent:\n",
    "            self.parent._backpropagate(reward)  "
   ]
  },
  {
   "attachments": {},
   "cell_type": "markdown",
   "id": "e6b41c21",
   "metadata": {},
   "source": [
    "Now let's see how Monte Carlo Tree Search behaves in our problem."
   ]
  },
  {
   "cell_type": "code",
   "execution_count": 17,
   "id": "8711d99d",
   "metadata": {},
   "outputs": [
    {
     "name": "stdout",
     "output_type": "stream",
     "text": [
      "Step number: 10\n",
      "Action executed: pickup\n",
      "Names: | Values: | Average reward: | Number of visits:\n",
      "pickup| 1.921 | 1.707 | 58.0\n",
      "west| -2.328 | -3.479 | 2.0\n",
      "east| -3.993 | -5.145 | 2.0\n",
      "north| -4.699 | -5.851 | 2.0\n",
      "south| -2.539 | -3.69 | 2.0\n",
      "+-----------------------+\n",
      "| : |F: | : | : | : |F: |\n",
      "| : | : : : | : | : | : |\n",
      "| : : : : : : : : : : : |\n",
      "| : : :\u001b[43m \u001b[0m: : | : : : : : |\n",
      "| : : : : : | : : : : : |\n",
      "| : : : : : : : : : : : |\n",
      "| | :G| | | :G| | | : | |\n",
      "+-----------------------+\n",
      "Taxi0-YELLOW: Fuel: inf, Location: (3, 3), Engine: ON, Collided: False, Step: 10, ALIVE\n",
      "Passenger0-YELLOW: Location: Taxi0 (3, 3), Destination: (-1, -1)\n",
      "Env done: True\n",
      "\n"
     ]
    },
    {
     "data": {
      "text/plain": [
       "10"
      ]
     },
     "execution_count": 17,
     "metadata": {},
     "output_type": "execute_result"
    }
   ],
   "source": [
    "env = new_environment_creator(taxi_pos=(0,0), passenger_pos=(3,3))\n",
    "N_SIMULATIONS = 20\n",
    "GAMMA = 0.78\n",
    "mcts = MonteCarloTreeSearchNode(state=env, n_simulations=N_SIMULATIONS, gamma=GAMMA)\n",
    "mcts.run_and_update(max_number_of_steps=1000, render=True)"
   ]
  },
  {
   "attachments": {},
   "cell_type": "markdown",
   "id": "1cc340cd",
   "metadata": {},
   "source": [
    "As you can see, despite the fact that we are using much less data, Monte Carlo Tree Search is still able to learn a good policy."
   ]
  },
  {
   "attachments": {},
   "cell_type": "markdown",
   "id": "da0a5e14",
   "metadata": {},
   "source": [
    "We've seen **Monte Carlo Control** and **Monte Carlo Tree Search** algorithms.\n",
    "\n",
    "In order to make a more rigorous comparison between the two, we define a helper function *evaluate_policy* that runs a specific algorithm (wither MCC or MCTS) for a specific number of simulations and *plot_steps_per_simulations* which will take care of creating a plot out of it. "
   ]
  },
  {
   "cell_type": "code",
   "execution_count": 18,
   "id": "78402ad8",
   "metadata": {},
   "outputs": [],
   "source": [
    "import matplotlib.pyplot as plt\n",
    "\n",
    "def evaluate_policy(problem, algorithm, simulations, render:bool=True):\n",
    "    if not algorithm in [\"Monte Carlo Control\", \"Monte Carlo Tree Search\"]:\n",
    "        raise ValueError(\"Algorithm must be one among: Monte Carlo Control, Monte Carlo Tree Search\")\n",
    "      \n",
    "    env = new_environment_creator(taxi_pos=problem[\"taxi_pos\"], passenger_pos=problem[\"passenger_pos\"],domain_map=problem[\"domain_map\"])\n",
    "\n",
    "    if algorithm == \"Monte Carlo Control\":\n",
    "        # Monte Carlo Control\n",
    "        monte_carlo_control = MonteCarloControl(env, gamma=0.99, max_steps_per_episode=1_000)\n",
    "        step = monte_carlo_control.run_and_update(number_of_simulated_episodes=simulations, render=render)\n",
    "        return step\n",
    "\n",
    "    elif (algorithm==\"Monte Carlo Tree Search\"):\n",
    "        # Monte Carlo Tree Search\n",
    "        mcts = MonteCarloTreeSearchNode(state = env, n_simulations=simulations, gamma=0.78)\n",
    "        step = mcts.run_and_update(max_number_of_steps=1000, render=render)\n",
    "        return step\n",
    "    \n",
    "def plot_steps_per_simulations(filename, problem, algorithms, simulations_per_step, number_of_experiments, render:bool=False):\n",
    "\n",
    "    data_to_plot = [[] for _ in range(len(algorithms))]\n",
    "\n",
    "    \n",
    "    for sim in simulations_per_step:\n",
    "        for i, algorithm in enumerate(algorithms): \n",
    "            print(f\"{algorithm} for {sim} simulations\")\n",
    "            steps=0\n",
    "            for _ in range(number_of_experiments):\n",
    "                steps += evaluate_policy(problem, algorithm ,sim, render=render)\n",
    "            data_to_plot[i].append(steps/number_of_experiments)\n",
    "\n",
    "    print(\"Experiments' results:\")\n",
    "    print(data_to_plot)\n",
    "\n",
    "    _, ax = plt.subplots(1, 1, figsize=(12, 3))\n",
    "    ax.set_title(f\"Performance\")\n",
    "    for i, algorithm in enumerate(algorithms): \n",
    "        ax.plot(simulations_per_step, data_to_plot[i], '-o', label=algorithm)\n",
    "    ax.set_xlabel(\"Simulations per step\")\n",
    "    ax.set_ylabel(\"Steps\")\n",
    "    ax.grid()\n",
    "    ax.legend()\n",
    "    plt.savefig(filename)\n",
    "    plt.show()\n",
    "\n",
    "    return data_to_plot"
   ]
  },
  {
   "cell_type": "code",
   "execution_count": 16,
   "id": "2d6f9021",
   "metadata": {},
   "outputs": [
    {
     "name": "stdout",
     "output_type": "stream",
     "text": [
      "Monte Carlo Control for 20 simulations\n",
      "Monte Carlo Tree Search for 20 simulations\n",
      "Monte Carlo Control for 50 simulations\n",
      "Monte Carlo Tree Search for 50 simulations\n",
      "Monte Carlo Control for 100 simulations\n",
      "Monte Carlo Tree Search for 100 simulations\n",
      "Experiments' results:\n",
      "[[8.2, 7.8, 7.0], [11.2, 10.4, 8.2]]\n"
     ]
    },
    {
     "data": {
      "image/png": "[encoded data removed]",
      "text/plain": [
       "<Figure size 864x216 with 1 Axes>"
      ]
     },
     "metadata": {
      "needs_background": "light"
     },
     "output_type": "display_data"
    },
    {
     "data": {
      "text/plain": [
       "[[8.2, 7.8, 7.0], [11.2, 10.4, 8.2]]"
      ]
     },
     "execution_count": 16,
     "metadata": {},
     "output_type": "execute_result"
    }
   ],
   "source": [
    "# Uncomment to run the experiments (it takes around 6 minutes to run)\n",
    "\n",
    "# problem={\"taxi_pos\":(0,0),\"passenger_pos\":(3,3),\"domain_map\":DEFAULT_MAP}\n",
    "# plot_steps_per_simulations(\"mcc_vs_mcts.png\", problem, [\"Monte Carlo Control\",\"Monte Carlo Tree Search\"], [20,50,100], 5)"
   ]
  },
  {
   "attachments": {},
   "cell_type": "markdown",
   "id": "765227db",
   "metadata": {},
   "source": [
    "![mcc_vs_mcts](https://raw.githubusercontent.com/GabrieleSerussi/mcts/main/mcc_vs_mcts.png)"
   ]
  },
  {
   "attachments": {},
   "cell_type": "markdown",
   "id": "8749aa08",
   "metadata": {},
   "source": [
    "As we can see from the graph, Monte Carlo Control (MCC) outperforms Monte Carlo Tree Search (MCTS).\n",
    "\n",
    "We relate it to the fact that **MCC** **uses a lot more data** than MCTS.\n",
    "\n",
    "Indeed, while **MCTS** maintains the values **only** for nodes (state-action pairs) **in the tree**, **MCC** maintains a value **for each state-action pair it ever encountered**.\n",
    "\n",
    "This allows **MCC** to have a **better estimate** of the value of each state-action pair and therefore to have a better policy. However, this comes at the cost of **a lot more memory usage**.\n",
    "\n",
    "On the other hand, **MCTS** is more **scalable** and can be used in problems where the state-action space is too big to fit in memory. This is the case of games like chess or Go. In fact, MCTS (with the extension that we're going to present in the next section and with neural networks) is the algorithm that allowed DeepMind to create AlphaGo, the first AI that was able to beat the world champion in Go. \n",
    "\n",
    "However, **MCTS** does **not always find the optimal policy**, as we have seen in this example."
   ]
  },
  {
   "attachments": {},
   "cell_type": "markdown",
   "id": "ed7771ea",
   "metadata": {},
   "source": [
    "Without further ado, let's take a look at an extension of Monte Carlo Tree Search called **Rapid Action Value Estimation** (RAVE)."
   ]
  },
  {
   "attachments": {},
   "cell_type": "markdown",
   "id": "e3fe3ed3",
   "metadata": {
    "id": "e3fe3ed3"
   },
   "source": [
    "# Rapid Action Value (RAVE)\n",
    "- It created the first program to achieve dan (master) level in Go. [[Gelly, Silver 2011]](https://www.sciencedirect.com/science/article/pii/S000437021100052X)\n",
    "- **MCTS** requires a **lot of simulations** to sample several pairs of state and action\n",
    "- To **speed up** this estimate we can introduce a **bias**\n",
    "- We will **update** the pair $\\langle s, a \\rangle$ **with** the **reward** obtained **using** $a$ **from** any state in the **subtree** of $s$ (AMAF heuristic)\n",
    "![rave](https://raw.githubusercontent.com/GabrieleSerussi/mcts/main/rave.png)"
   ]
  },
  {
   "attachments": {},
   "cell_type": "markdown",
   "id": "19d57ed4",
   "metadata": {
    "id": "19d57ed4"
   },
   "source": [
    "- In order to balance these two estimates we will use the following formula\n",
    "$$\n",
    "\\tilde{Q}(s,a) = (1-\\beta(s,a))*Q(s,a) + \\beta(s,a)*RAVE(s,a)\n",
    "$$\n",
    "Where:\n",
    "- $\\tilde{Q}(s,a)$ is the final value attributed to the pair $\\langle s, a \\rangle$\n",
    "- $\\beta(s,a)$ is a parameter which dynamically balances these two estimates\n",
    "- $Q(s,a)$ is the average Q-value of $\\langle s, a \\rangle$\n",
    "- $RAVE(s,a)$ is the RAVE value of $\\langle s, a \\rangle$\n",
    "\n",
    "$$\\beta(s,a) = \\sqrt{\\frac{k}{3N(s,a)+k}}$$\n",
    "Where:\n",
    "- $N(s)$ is the number of times that we visited the current node\n",
    "- $k$ is an hyperparameter that sets the number of simulation at which $Q$ and $RAVE$ are given the same weight\n",
    "\n",
    "![beta](https://raw.githubusercontent.com/GabrieleSerussi/mcts/main/beta.png)"
   ]
  },
  {
   "attachments": {},
   "cell_type": "markdown",
   "id": "93b0440f",
   "metadata": {},
   "source": [
    "Now we are going to implement RAVE.\n",
    "In order to keep track of the action values taken in the subtree we will need to override several functions of the MonteCarloTreeSearchNode class.\n",
    "\n",
    "We will highlight the biggest conceptual differences in the code."
   ]
  },
  {
   "cell_type": "code",
   "execution_count": 15,
   "id": "539f0487",
   "metadata": {
    "id": "539f0487"
   },
   "outputs": [],
   "source": [
    "class RAVEMonteCarloTreeSearchNode(MonteCarloTreeSearchNode):\n",
    "    '''Introduce RAVE optimization to MCTS'''\n",
    "    def __init__(self, state, n_simulations=100, parent=None, parent_action=None, k=3, gamma=0.78):\n",
    "        super().__init__(state, n_simulations, parent,parent_action, gamma=gamma)\n",
    "        self.average_reward_rave = 0\n",
    "        self.number_of_visits_rave = 0\n",
    "        self.k = k\n",
    "        # We need to override the evaluate function to use the rave value in rendering\n",
    "        self._evaluate_function = self._mc_rave\n",
    "\n",
    "    def _best_action(self, render:bool=False):\n",
    "        \"\"\"\n",
    "        Execute the four stages to find the best action from the current state.\n",
    "        \"\"\"\n",
    "        for _ in range(self.n_simulations):\n",
    "          node = self._tree_policy()\n",
    "          reward, taken_actions = node._rollout()\n",
    "          node._backpropagate(reward, taken_actions)\n",
    "        if not render:\n",
    "            return self._best_child(c_param=0.)\n",
    "        else:\n",
    "            return self._best_child(c_param=0.), self\n",
    "    \n",
    "    def _tree_policy(self):\n",
    "      \"\"\"\n",
    "      Selects node to run rollout.\n",
    "      \"\"\"\n",
    "      current_node = self\n",
    "      while not current_node._is_terminal_node():\n",
    "\n",
    "          if current_node._is_leaf():\n",
    "              # Differently from what we did in Monte Carlo Tree Search, even if we do not select\n",
    "              # a certain child from the current node, we still need to create it so that \n",
    "              # we will be able to update its rave value in the backpropagation step.\n",
    "              current_node._create_all_children()\n",
    "              return current_node._best_child()\n",
    "          \n",
    "          current_node = current_node._best_child()\n",
    "      return current_node\n",
    "\n",
    "    def _is_leaf(self):\n",
    "        \"\"\"\n",
    "        Returns True if the node is a leaf node, False otherwise.\n",
    "        \"\"\"\n",
    "        return len(self.children) == 0\n",
    "\n",
    "    def _create_all_children(self):\n",
    "        \"\"\"\n",
    "        Create all possible child nodes for the current node.\n",
    "        \"\"\"\n",
    "        for action in self._untried_actions:\n",
    "            \n",
    "            new_state = deepcopy(self.state)\n",
    "            new_state.step(action)\n",
    "            obs, reward, done, trunc, info = new_state.last()\n",
    "            child_node = RAVEMonteCarloTreeSearchNode(state = new_state, n_simulations=self.n_simulations,\n",
    "                            parent=self, parent_action=action, k=self.k, gamma=self.gamma)\n",
    "            child_node.terminal_state = done\n",
    "            child_node.average_reward = reward\n",
    "            child_node.number_of_visits = 1\n",
    "            child_node.average_reward_rave = reward\n",
    "            child_node.number_of_visits_rave = 1\n",
    "            \n",
    "\n",
    "            self.children.append(child_node)\n",
    "\n",
    "    def _best_child(self, c_param=0.8):\n",
    "        \"\"\"\n",
    "        Select the best child from the children array according to the MC-RAVE formula.\n",
    "        :param c_param: Exploration parameter.\n",
    "        :return: The child with the highest MC-RAVE value.\n",
    "        \"\"\"\n",
    "        choices_weights = [self._mc_rave(child, c_param) for child in self.children] \n",
    "        return self.children[np.argmax(choices_weights)]\n",
    "\n",
    "    def _mc_rave(self, child, c_param):\n",
    "        \"\"\"\n",
    "        Returns the MC-RAVE value for a child node.\n",
    "        :param child: The child node for which the MC-RAVE value is calculated.\n",
    "        :param c_param: Exploration parameter.\n",
    "        :return: The MC-RAVE value for the child node.\n",
    "        \"\"\"\n",
    "        uct =  float('inf') if (child.number_of_visits == 0 or self.number_of_visits == 0) else child.average_reward + \\\n",
    "        c_param*np.sqrt( \\\n",
    "          np.log(self.number_of_visits)/ child.number_of_visits \\\n",
    "        )\n",
    "        beta = np.sqrt(self.k / (3 * self.number_of_visits + self.k))\n",
    "        monte_carlo_value = float('inf') if uct == float('inf') \\\n",
    "                  else (1-beta)*uct\n",
    "        rave_value = float('inf') if child.number_of_visits_rave == 0 \\\n",
    "                  else beta*child.average_reward_rave\n",
    "        return monte_carlo_value + rave_value\n",
    "\n",
    "    def _rollout(self):\n",
    "        \"\"\"\n",
    "        Conducts a rollout from the current node.\n",
    "        :return: a tuple containing the reward obtained and the actions taken during the rollout.\n",
    "        \"\"\"\n",
    "        current_rollout_state = deepcopy(self.state)\n",
    "\n",
    "        _reward = 0\n",
    "        step = 0\n",
    "        done = current_rollout_state.last()[2]\n",
    "        taken_actions = []\n",
    "        while not done:\n",
    "            possible_moves = self._get_legal_actions()\n",
    "\n",
    "            action = self._rollout_policy(possible_moves)\n",
    "            current_rollout_state.step(action)\n",
    "            obs, reward, done, trunc, info = current_rollout_state.last()\n",
    "            _reward += reward*(self.gamma**step)\n",
    "            # DIFFERENCE FROM MONTE CARLO TREE SEARCH: we need to keep track of the actions taken\n",
    "            taken_actions.append(action)\n",
    "            ##############################\n",
    "            step += 1\n",
    "        return _reward, taken_actions\n",
    "\n",
    "    def _backpropagate(self, reward, taken_actions):\n",
    "        \"\"\"\n",
    "        Backpropagates the reward obtained during the rollout to the parents of the current node.\n",
    "        :param reward: The reward obtained during the rollout.\n",
    "        :param taken_actions: The actions taken during the rollout.\n",
    "        \"\"\"\n",
    "        self.number_of_visits += 1\n",
    "        self.average_reward = self.average_reward + (1/self.number_of_visits)*(reward-self.average_reward)\n",
    "\n",
    "        # DIFFERENCE FROM MONTE CARLO TREE SEARCH: we need to update the rave estimates of the children\n",
    "        for action in taken_actions:\n",
    "            for child in self.children:\n",
    "                if child.parent_action == action:\n",
    "                    child._update_rave_estimate(reward)\n",
    "        ##############################\n",
    "        \n",
    "        if self.parent is not None:\n",
    "            self.parent._backpropagate(reward, taken_actions)\n",
    "    \n",
    "    def _update_rave_estimate(self, reward):\n",
    "        \"\"\"\n",
    "        Updates the rave estimate of the current node.\n",
    "        :param reward: The reward obtained during the rollout.\n",
    "        \"\"\"\n",
    "        self.number_of_visits_rave += 1\n",
    "        self.average_reward_rave = self.average_reward_rave + (1/self.number_of_visits_rave)*(reward-self.average_reward_rave)\n"
   ]
  },
  {
   "attachments": {},
   "cell_type": "markdown",
   "id": "6e316251",
   "metadata": {},
   "source": [
    "Now let's see RAVE in action."
   ]
  },
  {
   "cell_type": "code",
   "execution_count": 16,
   "id": "be33ddba",
   "metadata": {},
   "outputs": [
    {
     "name": "stdout",
     "output_type": "stream",
     "text": [
      "Step number: 14\n",
      "Action executed: pickup\n",
      "Names: | Values: | Average reward: | Number of visits:\n",
      "south| 0.66 | -1 | 1\n",
      "north| 0.66 | -1 | 1\n",
      "east| 0.66 | -1 | 1\n",
      "west| 0.66 | -1 | 1\n",
      "pickup| 6.115 | 0.818 | 121\n",
      "+-----------------------+\n",
      "| : |F: | : | : | : |F: |\n",
      "| : | : : : | : | : | : |\n",
      "| : : : : : : : : : : : |\n",
      "| : : :\u001b[43m \u001b[0m: : | : : : : : |\n",
      "| : : : : : | : : : : : |\n",
      "| : : : : : : : : : : : |\n",
      "| | :G| | | :G| | | : | |\n",
      "+-----------------------+\n",
      "Taxi0-YELLOW: Fuel: inf, Location: (3, 3), Engine: ON, Collided: False, Step: 14, ALIVE\n",
      "Passenger0-YELLOW: Location: Taxi0 (3, 3), Destination: (-1, -1)\n",
      "Env done: True\n",
      "\n"
     ]
    },
    {
     "data": {
      "text/plain": [
       "14"
      ]
     },
     "execution_count": 16,
     "metadata": {},
     "output_type": "execute_result"
    }
   ],
   "source": [
    "env = new_environment_creator(taxi_pos=(0,0),passenger_pos=(3,3))\n",
    "rave = RAVEMonteCarloTreeSearchNode(state = env, n_simulations = 20, k=1, gamma=0.78)\n",
    "rave.run_and_update(max_number_of_steps=1000, render=True)"
   ]
  },
  {
   "attachments": {},
   "cell_type": "markdown",
   "id": "25668105",
   "metadata": {},
   "source": [
    "Despite being the heuristic that made the first Go program achieve dan level, RAVE does **not seem** to **give a definitive boost** to the performance of our algorithm.\n",
    "\n",
    "We conjecture that this is **probably** due to the fact that in our problem the **action space** is **too small** to really receive a benefit from this heuristic."
   ]
  },
  {
   "attachments": {},
   "cell_type": "markdown",
   "id": "299186ce",
   "metadata": {},
   "source": [
    "To make a more rigorous comparison, we will evaluate each of the algorithms for a variety of simulations. We redefine evaluate_policy to executes one of the algorithms: \"Monte Carlo Control\", \"Monte Carlo Tree Search\", \"RAVE\" for any given of number of simulations."
   ]
  },
  {
   "cell_type": "code",
   "execution_count": 23,
   "id": "fac9868e",
   "metadata": {},
   "outputs": [],
   "source": [
    "def evaluate_policy(problem, algorithm, simulations, render:bool=True):\n",
    "    if not algorithm in [\"Monte Carlo Control\", \"Monte Carlo Tree Search\", \"RAVE\"]:\n",
    "        raise ValueError(\"Algorithm must be one among: Monte Carlo Control, Monte Carlo Tree Search, RAVE and NewRAVE\")\n",
    "      \n",
    "    env = new_environment_creator(taxi_pos=problem[\"taxi_pos\"], passenger_pos=problem[\"passenger_pos\"],domain_map=problem[\"domain_map\"])\n",
    "\n",
    "    if algorithm == \"Monte Carlo Control\":\n",
    "        # Monte Carlo Control\n",
    "        monte_carlo_control = MonteCarloControl(env, gamma=0.99, max_steps_per_episode=1_000)\n",
    "        step = monte_carlo_control.run_and_update(number_of_simulated_episodes=simulations, render=render)\n",
    "        return step\n",
    "\n",
    "    elif (algorithm==\"Monte Carlo Tree Search\"):\n",
    "        # Monte Carlo Tree Search\n",
    "        mcts = MonteCarloTreeSearchNode(state = env, n_simulations=simulations, gamma=0.78)\n",
    "        step = mcts.run_and_update(max_number_of_steps=1000, render=render)\n",
    "        return step\n",
    "    \n",
    "    elif (algorithm ==\"RAVE\"):\n",
    "        # RAVE\n",
    "        rave = RAVEMonteCarloTreeSearchNode(state = env, n_simulations = simulations, k=1, gamma=0.78)\n",
    "        step = rave.run_and_update(max_number_of_steps=1000, render=render)\n",
    "        return step"
   ]
  },
  {
   "attachments": {},
   "cell_type": "markdown",
   "id": "6287cd82",
   "metadata": {},
   "source": [
    "Finally we plot the performance of the algorithms according to number of simulations.\n",
    "\n",
    "P.S. By default render is set to False to make the notebook run faster. If you want to see the agent in action, set render to True."
   ]
  },
  {
   "cell_type": "code",
   "execution_count": 25,
   "id": "518ebeda",
   "metadata": {},
   "outputs": [
    {
     "name": "stdout",
     "output_type": "stream",
     "text": [
      "Monte Carlo Control for 10 simulations\n",
      "Monte Carlo Tree Search for 10 simulations\n",
      "RAVE for 10 simulations\n",
      "Monte Carlo Control for 20 simulations\n",
      "Monte Carlo Tree Search for 20 simulations\n",
      "RAVE for 20 simulations\n",
      "Monte Carlo Control for 30 simulations\n",
      "Monte Carlo Tree Search for 30 simulations\n",
      "RAVE for 30 simulations\n",
      "Monte Carlo Control for 50 simulations\n",
      "Monte Carlo Tree Search for 50 simulations\n",
      "RAVE for 50 simulations\n",
      "Experiments' results:\n",
      "[[7.1, 7.4, 7.0, 7.0], [19.6, 11.6, 11.6, 9.4], [12.6, 10.5, 8.7, 8.5]]\n"
     ]
    },
    {
     "data": {
      "image/png": "[encoded data removed]",
      "text/plain": [
       "<Figure size 864x216 with 1 Axes>"
      ]
     },
     "metadata": {
      "needs_background": "light"
     },
     "output_type": "display_data"
    }
   ],
   "source": [
    "# Uncomment to execute the code (it takes around 16 minutes)\n",
    "\n",
    "# problem={\"taxi_pos\":(0,0),\"passenger_pos\":(3,3),\"domain_map\":DEFAULT_MAP}\n",
    "# results = plot_steps_per_simulations(\"mcc_vs_mcts_vs_rave.png\", problem, [\"Monte Carlo Control\", \"Monte Carlo Tree Search\", \"RAVE\"],[10,20,30,50],10)"
   ]
  },
  {
   "attachments": {},
   "cell_type": "markdown",
   "id": "06723efa",
   "metadata": {},
   "source": [
    "![performance](https://raw.githubusercontent.com/GabrieleSerussi/mcts/main/performance.png)"
   ]
  },
  {
   "attachments": {},
   "cell_type": "markdown",
   "id": "b1c49ec5",
   "metadata": {},
   "source": [
    "Our previous hypothesis seems to be confirmed by the last plot.\n",
    "\n",
    "In summary:\n",
    "- **MCC** is the **best** algorithm in terms of **performance** but it **requires** a **lot of data** to learn a good policy\n",
    "- **MCTS** is **scalable** and can be used in problems where the state-action space is too big to fit in memory, but it **does not always find the optimal policy**\n",
    "- **RAVE** is an **extension** of **MCTS** that **speeds up** the **learning** of the **action values** by **introducing a bias**. However, it **does not seem** to **give a definitive boost** to the performance of our algorithm, probably due to the fact that in our problem the **action space** is **too small** to really receive a benefit from this heuristic, differently from other problems where the action space is much bigger like in Go."
   ]
  },
  {
   "attachments": {},
   "cell_type": "markdown",
   "id": "0ec0f9d3",
   "metadata": {},
   "source": [
    "# TODO 1\n",
    "\n",
    "In this exercise you will try to see how the algorithms behave in a harder problem.\n",
    "In this case we will bring the passenger **farther** away from the taxi, so that the agent will need to take **more actions** to achieve the goal.\n",
    "\n",
    "Please, follow the instructions below:\n",
    "\n",
    "1. Define a problem with the passenger location = (6,7), the taxi location = (0,0) and the map = DEFAULT_MAP\n",
    "2. Run plot_steps_per_simulations with this new problem for Monte Carlo Control, Monte Carlo Tree Search and RAVE with 20 simulations and 3 experiments\n",
    "3. Compare the performance of the algorithms in this new problem"
   ]
  },
  {
   "attachments": {},
   "cell_type": "markdown",
   "id": "48097737",
   "metadata": {},
   "source": [
    "# TODO 2\n",
    "\n",
    "In this exercise you will try to see how the algorithms behave in a bigger map. In this case, despite the taxi being as close to the passenger as before, the **map will be bigger** and thus the **Monte Carlo Simulations** are likely to be longer, more expensive and **noisier**.\n",
    "\n",
    "Please, follow the instructions below:\n",
    "\n",
    "1. Define a problem with the taxi location = (2,0), the passenger location = (3,3) and the map = BIG_MAP\n",
    "2. Run plot_steps_per_simulations with this new problem for Monte Carlo Control, Monte Carlo Tree Search and RAVE with 20 simulations and 3 experiments\n",
    "3. Compare the performance of the algorithms in this new problem"
   ]
  },
  {
   "attachments": {},
   "cell_type": "markdown",
   "id": "6ed4588b",
   "metadata": {},
   "source": [
    "# TODO 3 (Optional)\n",
    "\n",
    "In this exercise you will modify the way RAVE balances the two estimates. In particular you will need to modify the function with which we estimate the value of a node, so that the reliance on the RAVE value decays slower compared to what happens in RAVE with the same value of k.\n",
    "\n",
    "Please, follow the instructions below:\n",
    "\n",
    "1. Implement the TODO in the function _mc_rave of the class NewRAVENode\n",
    "2. Define a problem with the taxi location = (0,0), the passenger location = (3,3) and the map = DEFAULT_MAP\n",
    "3. Run plot_steps_per_simulations with this problem for NewRAVE with 20 simulations and 3 experiments\n",
    "4. Compare the performance of NewRAVE with the performance of Monte Carlo Control and Monte Carlo Tree Search and RAVE"
   ]
  },
  {
   "cell_type": "code",
   "execution_count": 116,
   "id": "81bcc47b",
   "metadata": {},
   "outputs": [],
   "source": [
    "class NewRAVENode(RAVEMonteCarloTreeSearchNode):\n",
    "    def __init__(self, state, n_simulations=100, parent=None, parent_action=None, k=3, gamma=0.78):\n",
    "        super().__init__(state, n_simulations, parent,parent_action, k=k, gamma=gamma)\n",
    "    \n",
    "    def _mc_rave(self, child, c_param=0.8):\n",
    "        \"\"\"\n",
    "        Returns the MC-RAVE value for a child node.\n",
    "        :param child: The child node for which the MC-RAVE value is calculated.\n",
    "        :param c_param: Exploration parameter.\n",
    "        :return: The MC-RAVE value for the child node.\n",
    "        \"\"\"\n",
    "        uct =  float('inf') if (child.number_of_visits == 0 or self.number_of_visits == 0) else child.average_reward + \\\n",
    "        c_param*np.sqrt( \\\n",
    "          np.log(self.number_of_visits)/ child.number_of_visits \\\n",
    "        )\n",
    "        \n",
    "        ##############################\n",
    "        \"\"\"\n",
    "        TODO: modify beta so that the reliance on the RAVE value decays slower compared\n",
    "            to what happens in RAVE with the same value of k.\n",
    "            Hint: Can we replace the squared root with a different function?\n",
    "        \"\"\"\n",
    "        beta = None\n",
    "        ##############################\n",
    "        monte_carlo_value = float('inf') if uct == float('inf') \\\n",
    "                  else (1-beta)*uct\n",
    "        rave_value = float('inf') if child.number_of_visits_rave == 0 \\\n",
    "                  else beta*child.average_reward_rave\n",
    "        return monte_carlo_value + rave_value"
   ]
  },
  {
   "attachments": {},
   "cell_type": "markdown",
   "id": "72882e0d",
   "metadata": {},
   "source": [
    "Now we will extend evaluate_policy so that it will be able to evaluate also the NewRAVE algorithm."
   ]
  },
  {
   "cell_type": "code",
   "execution_count": 117,
   "id": "fffc8681",
   "metadata": {},
   "outputs": [],
   "source": [
    "def evaluate_policy(problem, algorithm, simulations, render:bool=False):\n",
    "    if not algorithm in [\"Monte Carlo Control\", \"Monte Carlo Tree Search\", \"RAVE\", \"NewRAVE\"]:\n",
    "        raise ValueError(\"Algorithm must be one among: Monte Carlo Control, Monte Carlo Tree Search, RAVE and NewRAVE\")\n",
    "      \n",
    "    env = new_environment_creator(taxi_pos=problem[\"taxi_pos\"], passenger_pos=problem[\"passenger_pos\"],domain_map=problem[\"domain_map\"])\n",
    "\n",
    "    if algorithm == \"Monte Carlo Control\":\n",
    "        # Monte Carlo Control\n",
    "        monte_carlo_control = MonteCarloControl(env, gamma=0.99, max_steps_per_episode=1_000)\n",
    "        step = monte_carlo_control.run_and_update(number_of_simulated_episodes=simulations, render=render)\n",
    "        return step\n",
    "\n",
    "    elif (algorithm==\"Monte Carlo Tree Search\"):\n",
    "        # Monte Carlo Tree Search\n",
    "        mcts = MonteCarloTreeSearchNode(state = env, n_simulations=simulations, gamma=0.78)\n",
    "        step = mcts.run_and_update(max_number_of_steps=1000, render=render)\n",
    "        return step\n",
    "    \n",
    "    elif (algorithm ==\"RAVE\"):\n",
    "        # RAVE\n",
    "        rave = RAVEMonteCarloTreeSearchNode(state = env, n_simulations = simulations, k=1, gamma=0.78)\n",
    "        step = rave.run_and_update(max_number_of_steps=1000, render=render)\n",
    "        return step\n",
    "    \n",
    "    elif (algorithm ==\"NewRAVE\"):\n",
    "        # NewRAVE\n",
    "        rave = NewRAVENode(state = env, n_simulations = simulations, k=1, gamma=0.78)\n",
    "        step = rave.run_and_update(max_number_of_steps=1000, render=render)\n",
    "        return step"
   ]
  },
  {
   "cell_type": "code",
   "execution_count": null,
   "id": "c78a0c65",
   "metadata": {},
   "outputs": [],
   "source": []
  }
 ],
 "metadata": {
  "celltoolbar": "Slideshow",
  "colab": {
   "provenance": []
  },
  "kernelspec": {
   "display_name": "cs224n",
   "language": "python",
   "name": "cs224n"
  },
  "language_info": {
   "codemirror_mode": {
    "name": "ipython",
    "version": 3
   },
   "file_extension": ".py",
   "mimetype": "text/x-python",
   "name": "python",
   "nbconvert_exporter": "python",
   "pygments_lexer": "ipython3",
   "version": "3.8.10"
  }
 },
 "nbformat": 4,
 "nbformat_minor": 5
}
